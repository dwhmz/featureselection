{
 "cells": [
  {
   "cell_type": "code",
   "execution_count": 18,
   "id": "artistic-minority",
   "metadata": {},
   "outputs": [],
   "source": [
    "import pandas as pd\n",
    "import numpy as np\n",
    "from sklearn.model_selection import train_test_split\n",
    "from sklearn import metrics\n",
    "from sklearn.preprocessing import LabelEncoder\n",
    "from sklearn.svm import SVC\n",
    "data = pd.read_csv('kipas0504.csv')\n",
    "#data = data.iloc[:,1:-1]  #remove kolom id\n",
    "label_encoder = LabelEncoder()\n",
    "data.iloc[:,0] = label_encoder.fit_transform(data.iloc[:,0]).astype('float64') #mengubah value diagnosis menjadi 1 dan 0"
   ]
  },
  {
   "cell_type": "code",
   "execution_count": 19,
   "id": "political-integer",
   "metadata": {},
   "outputs": [],
   "source": [
    "paramater = data.iloc[:,1:-1]\n",
    "target = data.iloc[:,0]"
   ]
  },
  {
   "cell_type": "code",
   "execution_count": 20,
   "id": "backed-accent",
   "metadata": {},
   "outputs": [],
   "source": [
    "x_train, x_test, y_train, y_test = train_test_split(paramater.values, target.values, test_size = 0.2)"
   ]
  },
  {
   "cell_type": "code",
   "execution_count": 21,
   "id": "necessary-stone",
   "metadata": {},
   "outputs": [],
   "source": [
    "#menghitung correlation\n",
    "corr_matrix = paramater.corr().abs()"
   ]
  },
  {
   "cell_type": "code",
   "execution_count": 22,
   "id": "separated-teach",
   "metadata": {},
   "outputs": [],
   "source": [
    "#ambil matrix segitiga atas\n",
    "upper = corr_matrix.where(np.triu(np.ones(corr_matrix.shape), k=1).astype(np.bool))"
   ]
  },
  {
   "cell_type": "code",
   "execution_count": 23,
   "id": "unique-oliver",
   "metadata": {},
   "outputs": [],
   "source": [
    "#temukan feature dengan correlation diatas 0.9\n",
    "to_drop = [column for column in upper.columns if any(upper[column] > 0.9)]\n",
    "for ls in to_drop:\n",
    "    paramater=paramater.drop([ls],axis=1)"
   ]
  },
  {
   "cell_type": "code",
   "execution_count": 24,
   "id": "fallen-portrait",
   "metadata": {},
   "outputs": [],
   "source": [
    "x_train, x_test, y_train, y_test = train_test_split(paramater.values, target.values, test_size = 0.2)"
   ]
  },
  {
   "cell_type": "code",
   "execution_count": 25,
   "id": "taken-appreciation",
   "metadata": {},
   "outputs": [
    {
     "name": "stdout",
     "output_type": "stream",
     "text": [
      "[[2.041e+02 3.000e-02 8.000e-01 6.400e-01 5.010e+01]\n",
      " [1.935e+02 1.700e-01 3.130e+01 7.340e+00 4.990e+01]\n",
      " [1.910e+02 1.700e-01 3.070e+01 5.780e+00 5.000e+01]\n",
      " ...\n",
      " [2.159e+02 1.200e-01 2.410e+01 1.251e+01 5.000e+01]\n",
      " [1.917e+02 1.400e-01 2.370e+01 4.760e+00 5.000e+01]\n",
      " [2.134e+02 1.200e-01 2.440e+01 2.040e+01 4.990e+01]]\n"
     ]
    }
   ],
   "source": [
    "print(x_train)"
   ]
  },
  {
   "cell_type": "code",
   "execution_count": 26,
   "id": "undefined-campaign",
   "metadata": {},
   "outputs": [
    {
     "name": "stdout",
     "output_type": "stream",
     "text": [
      "[23.  8.  4. ... 18.  0. 36.]\n"
     ]
    }
   ],
   "source": [
    "print(y_train)"
   ]
  },
  {
   "cell_type": "code",
   "execution_count": 27,
   "id": "broad-insight",
   "metadata": {},
   "outputs": [
    {
     "name": "stdout",
     "output_type": "stream",
     "text": [
      "Akurasi: 0.08852459016393442\n"
     ]
    }
   ],
   "source": [
    "x_train, x_test, y_train, y_test = train_test_split(paramater.values, target.values, test_size = 0.2)\n",
    "svc = SVC() # The default kernel adalah gaussian kernel\n",
    "svc.fit(x_train, y_train)                        \n",
    "prediction = svc.predict(x_test)     \n",
    "print(\"Akurasi:\",metrics.accuracy_score(y_test, prediction))"
   ]
  },
  {
   "cell_type": "code",
   "execution_count": 28,
   "id": "conceptual-newspaper",
   "metadata": {},
   "outputs": [
    {
     "name": "stdout",
     "output_type": "stream",
     "text": [
      "[33.  0.  0.  0.  0. 33. 39.  0. 39. 33.  0. 33.  0.  0. 12.  0. 39. 33.\n",
      " 39. 33.  0. 33. 12. 33. 33. 33.  0. 39.  0. 39. 39.  0. 39.  0. 33.  0.\n",
      " 39. 39.  0. 39. 39.  0. 39. 39. 39. 39. 39.  0. 39. 39. 33. 39. 39. 39.\n",
      " 39. 39. 39. 39. 39. 33. 39.  0. 39.  0. 39.  0. 39. 39. 39. 39. 39.  0.\n",
      " 39. 39.  0.  0.  0. 33.  0. 25. 39. 39.  0. 33. 39. 39. 39. 39.  0. 39.\n",
      " 39.  0. 33. 33. 39. 39. 39. 39. 39. 33.  0.  0. 33.  0. 39. 33. 39. 39.\n",
      " 39. 33. 39. 39.  0. 39. 39. 33. 39.  0. 39. 39.  0. 33. 39. 39. 39. 39.\n",
      " 12. 39.  0. 39. 39. 39. 33. 39. 33.  0. 39. 39. 39. 25. 39. 33. 39. 39.\n",
      " 39.  0. 39. 39. 39. 33. 39. 39. 39. 39.  0. 39. 39. 39. 39. 39. 39. 33.\n",
      " 33.  0. 39. 39. 33. 39. 39.  0. 39.  0. 39. 39. 39.  0. 33.  0. 39. 39.\n",
      "  0.  0. 39.  0. 39. 12. 39. 39. 39. 39. 39. 39. 39. 33.  0. 39. 33. 33.\n",
      " 33. 33.  0. 33. 33. 33.  0. 33. 39. 39. 39. 39. 39. 39. 39. 39. 39. 39.\n",
      " 39.  0.  0. 39. 33. 33. 39. 39. 33.  0. 39. 39. 39. 39. 25. 33.  0.  0.\n",
      "  0. 39. 39. 33.  0.  0.  0.  0. 33. 33.  0.  0. 39.  0. 33. 39. 39. 39.\n",
      " 33. 39. 39. 33. 33. 39.  0. 33. 39. 33.  0. 25. 39.  0. 39. 39. 39. 39.\n",
      " 39. 39.  0. 39. 33. 33.  0. 39.  0.  0. 39. 39. 33. 39.  0. 39. 39. 33.\n",
      " 33.  0.  0. 39.  0.  0. 33. 33.  0. 39. 39.  0. 39. 33. 39. 39. 39.  0.\n",
      " 39.  0. 39.  0. 33. 39.  0.  0. 33. 25. 39. 39. 39. 33. 25. 39.  0.  0.\n",
      " 39. 39. 39. 33. 33. 33. 39. 33. 39. 39. 39. 39. 39.  0. 39. 33.  0. 39.\n",
      " 39. 39. 39. 39. 39. 39. 33. 39. 33. 39. 33. 39. 39. 39. 39. 39.  0. 33.\n",
      " 39.  0. 39. 33. 33. 39. 39. 33. 39.  0. 33.  0. 33. 39. 39. 39. 25. 33.\n",
      " 39.  0. 39. 39.  0. 33. 39. 33.  0. 33. 39. 39. 39. 39.  0.  0.  0.  0.\n",
      " 39. 33. 33. 39.  0.  0. 33. 39. 33. 33. 33. 33. 33.  0. 39.  0. 39. 39.\n",
      " 39.  0.  0. 12. 39.  0. 39. 39. 39. 39. 39. 39. 39. 39. 39.  0.  0. 39.\n",
      " 39. 39.  0. 33. 39.  0. 33. 33. 33. 39. 39. 39. 12. 33. 33.  0. 33.  0.\n",
      "  0. 39. 39. 33.  0. 39. 39.  0.  0. 39. 39.  0. 33. 39.  0. 33. 39. 33.\n",
      "  0. 39. 25. 39.  0. 39.  0.  0. 39. 33.  0.  0.  0. 39. 39. 39.  0.  0.\n",
      " 39. 39. 39. 39. 39. 33. 39.  0. 39. 33. 39. 33. 39. 33. 33. 33. 39. 39.\n",
      "  0. 33. 39. 33. 33. 39. 39.  0. 39.  0.  0. 39. 39.  0. 39. 33.  0. 33.\n",
      " 39. 39.  0. 33. 39.  0. 39.  0. 39. 39.  0. 33. 33. 39. 39.  0. 33.  0.\n",
      " 33.  0.  0. 39. 39. 39. 39. 33. 39.  0.  0. 39. 39.  0. 39.  0. 39. 39.\n",
      " 39. 39. 12. 39. 39.  0.  0. 33. 39. 39. 33. 39.  0. 39.  0. 33. 33.  0.\n",
      " 39. 33. 39. 39. 39. 33. 39. 39. 33. 39. 33. 39. 33. 39. 12. 39. 39. 39.\n",
      " 39. 33.  0. 39. 33. 39. 33. 39.  0. 39. 39.  0. 39. 33. 12.  0.]\n"
     ]
    }
   ],
   "source": [
    "print(prediction)"
   ]
  },
  {
   "cell_type": "code",
   "execution_count": null,
   "id": "incredible-elder",
   "metadata": {},
   "outputs": [],
   "source": []
  }
 ],
 "metadata": {
  "kernelspec": {
   "display_name": "Python 3",
   "language": "python",
   "name": "python3"
  },
  "language_info": {
   "codemirror_mode": {
    "name": "ipython",
    "version": 3
   },
   "file_extension": ".py",
   "mimetype": "text/x-python",
   "name": "python",
   "nbconvert_exporter": "python",
   "pygments_lexer": "ipython3",
   "version": "3.9.1"
  }
 },
 "nbformat": 4,
 "nbformat_minor": 5
}
