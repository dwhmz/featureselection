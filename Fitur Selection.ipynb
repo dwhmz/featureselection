{
 "cells": [
  {
   "cell_type": "code",
   "execution_count": 29,
   "id": "fitting-apple",
   "metadata": {},
   "outputs": [],
   "source": [
    "import pandas as pd\n",
    "import numpy as np\n",
    "from sklearn.model_selection import train_test_split\n",
    "from sklearn import metrics\n",
    "from sklearn.preprocessing import LabelEncoder\n",
    "from sklearn.svm import SVC"
   ]
  },
  {
   "cell_type": "code",
   "execution_count": 30,
   "id": "herbal-classics",
   "metadata": {},
   "outputs": [],
   "source": [
    "np.random.seed(123)\n",
    "data = pd.read_csv('kipas0504.csv')\n",
    "#data = data.iloc[:,1:-1]  #remove kolom id\n",
    "label_encoder = LabelEncoder()\n",
    "data.iloc[:,0] = label_encoder.fit_transform(data.iloc[:,0]).astype('float64') #mengubah value diagnosis menjadi 1 dan 0"
   ]
  },
  {
   "cell_type": "code",
   "execution_count": 31,
   "id": "indie-voluntary",
   "metadata": {},
   "outputs": [],
   "source": [
    "paramater = data.iloc[:,1:-1]\n",
    "target = data.iloc[:,0]"
   ]
  },
  {
   "cell_type": "code",
   "execution_count": 32,
   "id": "appointed-locking",
   "metadata": {},
   "outputs": [],
   "source": [
    "#menghitung correlation\n",
    "corr_matrix = paramater.corr().abs()\n",
    "#ambil matrix segitiga atas\n",
    "upper = corr_matrix.where(np.triu(np.ones(corr_matrix.shape), k=1).astype(np.bool))\n"
   ]
  },
  {
   "cell_type": "code",
   "execution_count": 33,
   "id": "provincial-stand",
   "metadata": {},
   "outputs": [],
   "source": [
    "#temukan feature dengan correlation diatas 0.9\n",
    "to_drop = [column for column in upper.columns if any(upper[column] > 0.9)]\n",
    "for ls in to_drop:\n",
    "    paramater=paramater.drop([ls],axis=1)"
   ]
  },
  {
   "cell_type": "code",
   "execution_count": 34,
   "id": "armed-strap",
   "metadata": {},
   "outputs": [],
   "source": [
    "x_train, x_test, y_train, y_test = train_test_split(paramater.values, target.values, test_size = 0.2)"
   ]
  },
  {
   "cell_type": "code",
   "execution_count": 35,
   "id": "desperate-sense",
   "metadata": {},
   "outputs": [
    {
     "name": "stdout",
     "output_type": "stream",
     "text": [
      "Akurasi: 0.09180327868852459\n"
     ]
    }
   ],
   "source": [
    "svc = SVC() # The default kernel adalah gaussian kernel\n",
    "svc.fit(x_train, y_train)                        \n",
    "prediction = svc.predict(x_test)     \n",
    "print(\"Akurasi:\",metrics.accuracy_score(y_test, prediction))\n",
    " "
   ]
  },
  {
   "cell_type": "code",
   "execution_count": null,
   "id": "affected-representation",
   "metadata": {},
   "outputs": [],
   "source": []
  },
  {
   "cell_type": "code",
   "execution_count": null,
   "id": "three-brighton",
   "metadata": {},
   "outputs": [],
   "source": []
  },
  {
   "cell_type": "code",
   "execution_count": null,
   "id": "opening-clothing",
   "metadata": {},
   "outputs": [],
   "source": []
  },
  {
   "cell_type": "code",
   "execution_count": null,
   "id": "unlikely-continuity",
   "metadata": {},
   "outputs": [],
   "source": []
  },
  {
   "cell_type": "code",
   "execution_count": null,
   "id": "mechanical-stadium",
   "metadata": {},
   "outputs": [],
   "source": []
  }
 ],
 "metadata": {
  "kernelspec": {
   "display_name": "Python 3",
   "language": "python",
   "name": "python3"
  },
  "language_info": {
   "codemirror_mode": {
    "name": "ipython",
    "version": 3
   },
   "file_extension": ".py",
   "mimetype": "text/x-python",
   "name": "python",
   "nbconvert_exporter": "python",
   "pygments_lexer": "ipython3",
   "version": "3.9.1"
  }
 },
 "nbformat": 4,
 "nbformat_minor": 5
}
